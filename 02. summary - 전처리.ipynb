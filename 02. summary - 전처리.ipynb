{
 "cells": [
  {
   "cell_type": "markdown",
   "metadata": {},
   "source": [
    "# 데이터 전처리\n",
    "\n",
    "* 결측치 처리\n",
    "\n",
    "* 인코딩 수행\n",
    "\n",
    "* 불균형 처리\n",
    "\n",
    "  * 설명변수 범주 불균형\n",
    "\n",
    "  * 반응변수 불균형\n",
    "\n",
    "* 연속형 변수 이산화\n",
    "\n",
    "* 변수 변환\n",
    "\n",
    "* 표준화, 정규화\n",
    "\n",
    "* 이상치 처리"
   ]
  },
  {
   "cell_type": "markdown",
   "metadata": {},
   "source": []
  }
 ],
 "metadata": {
  "kernelspec": {
   "display_name": "adp",
   "language": "python",
   "name": "python3"
  },
  "language_info": {
   "codemirror_mode": {
    "name": "ipython",
    "version": 3
   },
   "file_extension": ".py",
   "mimetype": "text/x-python",
   "name": "python",
   "nbconvert_exporter": "python",
   "pygments_lexer": "ipython3",
   "version": "3.7.12"
  }
 },
 "nbformat": 4,
 "nbformat_minor": 2
}
