{
 "cells": [
  {
   "cell_type": "markdown",
   "metadata": {},
   "source": [
    "### EDA (Exploratory Data Analysis)\n",
    "\n",
    "데이터를 이해하고 패턴을 찾아 문제점을 식별하고 가설을 검정하는 과정\n",
    "\n",
    "1. 데이터 로딩 및 형태 확인 , 변수명 Simplification\n",
    "\n",
    "2. 변수 선택, 변수 (변수 속성) 확인, 변환\n",
    "\n",
    "3. 데이터 재구조화\n",
    "\n",
    "4. 변수별 요약 통계량 확인\n",
    "\n",
    "   * 이상치, 결측치\n",
    "\n",
    "   * 연속형 변수의 분포 치우침, 범주형 변수의 class 불균형\n",
    "\n",
    "5. 변수간 관계 통계량 확인\n",
    "\n",
    "   a. 반응변수 vs 설명변수 (범주, 연속) 상관관계\n",
    " \n",
    "   b. 설명변수 vs 설명변수 상관관계"
   ]
  },
  {
   "cell_type": "markdown",
   "metadata": {},
   "source": [
    "#### 1. 데이터 로딩, 형태 확인, 변수명 간략화\n",
    "\n",
    "* python 3.7 compatible 'janitor version'\n",
    " \n",
    "  ```bash\n",
    "  pip install pyjanitor=0.21.0\n",
    "  ```\n",
    "\n",
    "* .clean_names() 주요 인자\n",
    "\n",
    "  * case_type  (default 'lower') : 열 이름 대/소문자 처리 방식 (lower, upper, carmel, title 등)\n",
    "\n",
    "  * remove_special  (default True) : 특수 문자 제거 여부\n",
    "\n",
    "  * strip_underscore  (default True) : 언더스코어 제거 여부"
   ]
  },
  {
   "cell_type": "code",
   "execution_count": 2,
   "metadata": {},
   "outputs": [
    {
     "data": {
      "text/html": [
       "<div>\n",
       "<style scoped>\n",
       "    .dataframe tbody tr th:only-of-type {\n",
       "        vertical-align: middle;\n",
       "    }\n",
       "\n",
       "    .dataframe tbody tr th {\n",
       "        vertical-align: top;\n",
       "    }\n",
       "\n",
       "    .dataframe thead th {\n",
       "        text-align: right;\n",
       "    }\n",
       "</style>\n",
       "<table border=\"1\" class=\"dataframe\">\n",
       "  <thead>\n",
       "    <tr style=\"text-align: right;\">\n",
       "      <th></th>\n",
       "      <th>SCHOOL</th>\n",
       "      <th>SEX</th>\n",
       "      <th>PAID</th>\n",
       "      <th>FAMREL</th>\n",
       "      <th>FREETIME</th>\n",
       "      <th>GOOUT</th>\n",
       "      <th>DALC</th>\n",
       "      <th>WALC</th>\n",
       "      <th>HEALTH</th>\n",
       "      <th>ABSENCES</th>\n",
       "      <th>GRADE</th>\n",
       "    </tr>\n",
       "  </thead>\n",
       "  <tbody>\n",
       "    <tr>\n",
       "      <th>0</th>\n",
       "      <td>GP</td>\n",
       "      <td>F</td>\n",
       "      <td>no</td>\n",
       "      <td>4</td>\n",
       "      <td>3</td>\n",
       "      <td>4.0</td>\n",
       "      <td>1</td>\n",
       "      <td>1</td>\n",
       "      <td>3</td>\n",
       "      <td>6</td>\n",
       "      <td>1</td>\n",
       "    </tr>\n",
       "    <tr>\n",
       "      <th>1</th>\n",
       "      <td>GP</td>\n",
       "      <td>F</td>\n",
       "      <td>no</td>\n",
       "      <td>5</td>\n",
       "      <td>3</td>\n",
       "      <td>3.0</td>\n",
       "      <td>1</td>\n",
       "      <td>1</td>\n",
       "      <td>3</td>\n",
       "      <td>4</td>\n",
       "      <td>1</td>\n",
       "    </tr>\n",
       "  </tbody>\n",
       "</table>\n",
       "</div>"
      ],
      "text/plain": [
       "  SCHOOL SEX PAID  FAMREL  FREETIME  GOOUT  DALC  WALC  HEALTH  ABSENCES  \\\n",
       "0     GP   F   no       4         3    4.0     1     1       3         6   \n",
       "1     GP   F   no       5         3    3.0     1     1       3         4   \n",
       "\n",
       "   GRADE  \n",
       "0      1  \n",
       "1      1  "
      ]
     },
     "metadata": {},
     "output_type": "display_data"
    },
    {
     "data": {
      "text/html": [
       "<div>\n",
       "<style scoped>\n",
       "    .dataframe tbody tr th:only-of-type {\n",
       "        vertical-align: middle;\n",
       "    }\n",
       "\n",
       "    .dataframe tbody tr th {\n",
       "        vertical-align: top;\n",
       "    }\n",
       "\n",
       "    .dataframe thead th {\n",
       "        text-align: right;\n",
       "    }\n",
       "</style>\n",
       "<table border=\"1\" class=\"dataframe\">\n",
       "  <thead>\n",
       "    <tr style=\"text-align: right;\">\n",
       "      <th></th>\n",
       "      <th>school</th>\n",
       "      <th>sex</th>\n",
       "      <th>paid</th>\n",
       "      <th>famrel</th>\n",
       "      <th>freetime</th>\n",
       "      <th>goout</th>\n",
       "      <th>dalc</th>\n",
       "      <th>walc</th>\n",
       "      <th>health</th>\n",
       "      <th>absences</th>\n",
       "      <th>grade</th>\n",
       "    </tr>\n",
       "  </thead>\n",
       "  <tbody>\n",
       "    <tr>\n",
       "      <th>0</th>\n",
       "      <td>GP</td>\n",
       "      <td>F</td>\n",
       "      <td>no</td>\n",
       "      <td>4</td>\n",
       "      <td>3</td>\n",
       "      <td>4.0</td>\n",
       "      <td>1</td>\n",
       "      <td>1</td>\n",
       "      <td>3</td>\n",
       "      <td>6</td>\n",
       "      <td>1</td>\n",
       "    </tr>\n",
       "    <tr>\n",
       "      <th>1</th>\n",
       "      <td>GP</td>\n",
       "      <td>F</td>\n",
       "      <td>no</td>\n",
       "      <td>5</td>\n",
       "      <td>3</td>\n",
       "      <td>3.0</td>\n",
       "      <td>1</td>\n",
       "      <td>1</td>\n",
       "      <td>3</td>\n",
       "      <td>4</td>\n",
       "      <td>1</td>\n",
       "    </tr>\n",
       "  </tbody>\n",
       "</table>\n",
       "</div>"
      ],
      "text/plain": [
       "  school sex paid  famrel  freetime  goout  dalc  walc  health  absences  \\\n",
       "0     GP   F   no       4         3    4.0     1     1       3         6   \n",
       "1     GP   F   no       5         3    3.0     1     1       3         4   \n",
       "\n",
       "   grade  \n",
       "0      1  \n",
       "1      1  "
      ]
     },
     "metadata": {},
     "output_type": "display_data"
    }
   ],
   "source": [
    "# import warnings\n",
    "# warnings.filterwarnings('ignore', category=Warning)\n",
    "\n",
    "import pandas as pd\n",
    "import janitor\n",
    "\n",
    "df = pd.read_csv('../data/ex_data/adp1.csv')\n",
    "\n",
    "# column 직접 변경 (columns 를 str 를 통해 접근 가능!)\n",
    "df.columns = df.columns.str.upper()\n",
    "display(df.head(2))\n",
    "\n",
    "# janitor\n",
    "df = df.clean_names(\n",
    "    case_type='lower' , \n",
    "    remove_special= True, \n",
    "    strip_underscores=True\n",
    ") # 해당값이 default\n",
    "display(df.head(2))\n"
   ]
  },
  {
   "cell_type": "markdown",
   "metadata": {},
   "source": [
    "#### 2. 변수 선택, 변수 (변수 속성) 확인, 변환"
   ]
  },
  {
   "cell_type": "markdown",
   "metadata": {},
   "source": [
    "**pandas 가 가질 수 있는 데이터 타입**\n",
    "\n",
    "\n",
    "* int64: 정수형 데이터\n",
    "\n",
    "* float64: 부동소수점 데이터\n",
    "\n",
    "* bool: 불리언(True/False) 데이터\n",
    "\n",
    "* datetime64: 날짜와 시간 데이터\n",
    "\n",
    "* timedelta[ns]: 두 datetime64 간의 차이\n",
    "\n",
    "* category: 범주형 데이터를 나타냄. 문자열과 비슷하지만, 특정한 범주 내에서만 값을 가질 수 있음\n",
    "\n",
    "* object: 일반적으로 문자열 데이터. 그러나 pandas에서는 열이 다른 데이터 타입을 가질 수 없는 경우에도 object 타입을 사용\n",
    "\n",
    "각 열의 데이터 타입은 `df.dtypes`를 통해 확인"
   ]
  },
  {
   "cell_type": "code",
   "execution_count": 3,
   "metadata": {},
   "outputs": [
    {
     "name": "stdout",
     "output_type": "stream",
     "text": [
      "<class 'pandas.core.frame.DataFrame'>\n",
      "RangeIndex: 366 entries, 0 to 365\n",
      "Data columns (total 11 columns):\n",
      " #   Column    Non-Null Count  Dtype  \n",
      "---  ------    --------------  -----  \n",
      " 0   school    366 non-null    object \n",
      " 1   sex       366 non-null    object \n",
      " 2   paid      366 non-null    object \n",
      " 3   famrel    366 non-null    int64  \n",
      " 4   freetime  366 non-null    int64  \n",
      " 5   goout     356 non-null    float64\n",
      " 6   dalc      366 non-null    int64  \n",
      " 7   walc      366 non-null    int64  \n",
      " 8   health    366 non-null    int64  \n",
      " 9   absences  366 non-null    int64  \n",
      " 10  grade     366 non-null    int64  \n",
      "dtypes: float64(1), int64(7), object(3)\n",
      "memory usage: 31.6+ KB\n"
     ]
    }
   ],
   "source": [
    "df.info()"
   ]
  },
  {
   "cell_type": "markdown",
   "metadata": {},
   "source": [
    "**타입에 따른 변수 선택**\n",
    "\n",
    "* select_dtypes('int64') \n",
    "\n",
    "  * int 로 주어도 동작하고 int32, int64 를 모두 True 로 처리\n",
    "\n",
    "  * number 로 주어도 int, float 형태 모두를 가지고 올 수 있음\n",
    "\n",
    "* df.dtypes == 'int64' 통한 boolean indexing\n",
    "\n",
    "  * int 로 주어도 동작하고 int32, int64 를 모두 True 로 처리\n",
    "\n",
    "  * number 로 줄 수 없음\n",
    "\n",
    "* df.applymap(lambda x: isinstance(x, int)).all()\n",
    "\n",
    "  * applymap 을 통해 각 열의 각 element 하나씩에 대해\n",
    "\n",
    "  * isinstance 를 통해 타입을 비교하고\n",
    "\n",
    "  * all 을 통해 모두 int 타입인 경우 True\n",
    "\n",
    "  * 이를 통해 boolean indexing\n",
    "\n",
    "  * 파이선의 내장 타입인 int, float, bool, str, tuple, dict, set 을 체크\n",
    "\n",
    "  * int64, int32 등 pandas 의 타입은 체크하지 못함"
   ]
  },
  {
   "cell_type": "code",
   "execution_count": 4,
   "metadata": {},
   "outputs": [
    {
     "name": "stdout",
     "output_type": "stream",
     "text": [
      "<class 'pandas.core.frame.DataFrame'>\n",
      "RangeIndex: 366 entries, 0 to 365\n",
      "Data columns (total 8 columns):\n",
      " #   Column    Non-Null Count  Dtype  \n",
      "---  ------    --------------  -----  \n",
      " 0   famrel    366 non-null    int64  \n",
      " 1   freetime  366 non-null    int64  \n",
      " 2   goout     356 non-null    float64\n",
      " 3   Dalc      366 non-null    int64  \n",
      " 4   Walc      366 non-null    int64  \n",
      " 5   health    366 non-null    int64  \n",
      " 6   absences  366 non-null    int64  \n",
      " 7   grade     366 non-null    int64  \n",
      "dtypes: float64(1), int64(7)\n",
      "memory usage: 23.0 KB\n"
     ]
    }
   ],
   "source": [
    "df = pd.read_csv('../data/ex_data/adp1.csv')\n",
    "\n",
    "# int 형 컬럼을 선택하여 int32 로 변환\n",
    "\n",
    "df_int1 = df.select_dtypes('int').astype('int32')\n",
    "\n",
    "df_int2 = df.loc[:, df.dtypes == 'int'].astype('int32')\n",
    "\n",
    "df_int3 = df.loc[:, df.applymap(lambda x : isinstance(x, int)).all()].astype('int32')\n",
    "\n",
    "# number :  use np.number or 'number'\n",
    "# object (string ): use the object dtype, ( note :  this will return *all* object )\n",
    "# \n",
    "# See the numpy dtype hierarchy <https://numpy.org/doc/stable/reference/arrays.scalars.html>__\n",
    "# To select datetimes, use np.datetime64, 'datetime' or 'datetime64'\n",
    "# To select timedeltas, use np.timedelta64, 'timedelta' or 'timedelta64'\n",
    "# To select Pandas categorical dtypes, use 'category'\n",
    "# To select Pandas datetimetz dtypes, use 'datetimetz' (new in 0.20.0) or 'datetime64[ns, tz]'\n",
    "\n",
    "df.select_dtypes('number').info()"
   ]
  },
  {
   "cell_type": "markdown",
   "metadata": {},
   "source": [
    "※ Remark\n",
    "\n",
    "* list 를 dataframe 에 넣고 이를 type 으로 식별할 수 있나?"
   ]
  },
  {
   "cell_type": "code",
   "execution_count": 5,
   "metadata": {},
   "outputs": [
    {
     "name": "stdout",
     "output_type": "stream",
     "text": [
      "<class 'pandas.core.frame.DataFrame'>\n",
      "RangeIndex: 366 entries, 0 to 365\n",
      "Data columns (total 4 columns):\n",
      " #   Column  Non-Null Count  Dtype \n",
      "---  ------  --------------  ----- \n",
      " 0   school  366 non-null    object\n",
      " 1   sex     366 non-null    object\n",
      " 2   paid    366 non-null    object\n",
      " 3   B       366 non-null    object\n",
      "dtypes: object(4)\n",
      "memory usage: 11.6+ KB\n",
      "<class 'pandas.core.frame.DataFrame'>\n",
      "RangeIndex: 366 entries, 0 to 365\n",
      "Data columns (total 4 columns):\n",
      " #   Column  Non-Null Count  Dtype \n",
      "---  ------  --------------  ----- \n",
      " 0   school  366 non-null    object\n",
      " 1   sex     366 non-null    object\n",
      " 2   paid    366 non-null    object\n",
      " 3   B       366 non-null    object\n",
      "dtypes: object(4)\n",
      "memory usage: 11.6+ KB\n"
     ]
    },
    {
     "data": {
      "text/plain": [
       "school      False\n",
       "sex         False\n",
       "paid        False\n",
       "famrel      False\n",
       "freetime    False\n",
       "goout       False\n",
       "Dalc        False\n",
       "Walc        False\n",
       "health      False\n",
       "absences    False\n",
       "grade       False\n",
       "B            True\n",
       "dtype: bool"
      ]
     },
     "execution_count": 5,
     "metadata": {},
     "output_type": "execute_result"
    }
   ],
   "source": [
    "df = pd.read_csv('../data/ex_data/adp1.csv')\n",
    "\n",
    "# list 객체를 B 열에 추가\n",
    "df['B'] = [[] for _ in range(len(df))]\n",
    "\n",
    "# object 를 통한 filtering \n",
    "df.select_dtypes('object').info()\n",
    "\n",
    "# list 를 통한 filtering\n",
    "df.select_dtypes(list).info()   # list 는 인지하지 못함!!!!\n",
    "\n",
    "# 모든 element 검사를 통한 filtering\n",
    "df.applymap(lambda x: isinstance(x, list)).all()  "
   ]
  },
  {
   "cell_type": "markdown",
   "metadata": {},
   "source": [
    "**변수 하나씩에 대한 처리**\n",
    "\n",
    "* assign (변수1 = 처리함수1, 변수2=처리함수2) 와 같은 형태로 하나씩 대응"
   ]
  },
  {
   "cell_type": "code",
   "execution_count": 6,
   "metadata": {},
   "outputs": [
    {
     "data": {
      "text/html": [
       "<div>\n",
       "<style scoped>\n",
       "    .dataframe tbody tr th:only-of-type {\n",
       "        vertical-align: middle;\n",
       "    }\n",
       "\n",
       "    .dataframe tbody tr th {\n",
       "        vertical-align: top;\n",
       "    }\n",
       "\n",
       "    .dataframe thead th {\n",
       "        text-align: right;\n",
       "    }\n",
       "</style>\n",
       "<table border=\"1\" class=\"dataframe\">\n",
       "  <thead>\n",
       "    <tr style=\"text-align: right;\">\n",
       "      <th></th>\n",
       "      <th>school</th>\n",
       "      <th>sex</th>\n",
       "      <th>paid</th>\n",
       "      <th>famrel</th>\n",
       "      <th>freetime</th>\n",
       "      <th>goout</th>\n",
       "      <th>Dalc</th>\n",
       "      <th>Walc</th>\n",
       "      <th>health</th>\n",
       "      <th>absences</th>\n",
       "      <th>grade</th>\n",
       "      <th>B</th>\n",
       "    </tr>\n",
       "  </thead>\n",
       "  <tbody>\n",
       "    <tr>\n",
       "      <th>0</th>\n",
       "      <td>GP</td>\n",
       "      <td>F</td>\n",
       "      <td>no</td>\n",
       "      <td>0.064172</td>\n",
       "      <td>0.5</td>\n",
       "      <td>4.0</td>\n",
       "      <td>1</td>\n",
       "      <td>1</td>\n",
       "      <td>3</td>\n",
       "      <td>6</td>\n",
       "      <td>1</td>\n",
       "      <td>[]</td>\n",
       "    </tr>\n",
       "    <tr>\n",
       "      <th>1</th>\n",
       "      <td>GP</td>\n",
       "      <td>F</td>\n",
       "      <td>no</td>\n",
       "      <td>1.182599</td>\n",
       "      <td>0.5</td>\n",
       "      <td>3.0</td>\n",
       "      <td>1</td>\n",
       "      <td>1</td>\n",
       "      <td>3</td>\n",
       "      <td>4</td>\n",
       "      <td>1</td>\n",
       "      <td>[]</td>\n",
       "    </tr>\n",
       "  </tbody>\n",
       "</table>\n",
       "</div>"
      ],
      "text/plain": [
       "  school sex paid    famrel  freetime  goout  Dalc  Walc  health  absences  \\\n",
       "0     GP   F   no  0.064172       0.5    4.0     1     1       3         6   \n",
       "1     GP   F   no  1.182599       0.5    3.0     1     1       3         4   \n",
       "\n",
       "   grade   B  \n",
       "0      1  []  \n",
       "1      1  []  "
      ]
     },
     "execution_count": 6,
     "metadata": {},
     "output_type": "execute_result"
    }
   ],
   "source": [
    "# 변수 하나 하나에 대해서 변환하는 방법 (신규 생성시에도 가능)\n",
    "\n",
    "df.assign(\n",
    "   # 표준화 , Standardization\n",
    "   famrel = lambda x: (x.famrel - x.famrel.mean()) / x.famrel.std(),\n",
    "   # 정규화 , Normalization\n",
    "   freetime = lambda x : (x.freetime - x.freetime.min()) / (x.freetime.max() - x.freetime.min()) \n",
    ").head(2)"
   ]
  },
  {
   "cell_type": "markdown",
   "metadata": {},
   "source": [
    "**Column 명의 Pattern 에 따른 Filtering**"
   ]
  },
  {
   "cell_type": "code",
   "execution_count": 7,
   "metadata": {},
   "outputs": [
    {
     "data": {
      "text/html": [
       "<div>\n",
       "<style scoped>\n",
       "    .dataframe tbody tr th:only-of-type {\n",
       "        vertical-align: middle;\n",
       "    }\n",
       "\n",
       "    .dataframe tbody tr th {\n",
       "        vertical-align: top;\n",
       "    }\n",
       "\n",
       "    .dataframe thead th {\n",
       "        text-align: right;\n",
       "    }\n",
       "</style>\n",
       "<table border=\"1\" class=\"dataframe\">\n",
       "  <thead>\n",
       "    <tr style=\"text-align: right;\">\n",
       "      <th></th>\n",
       "      <th>famrel</th>\n",
       "      <th>freetime</th>\n",
       "    </tr>\n",
       "  </thead>\n",
       "  <tbody>\n",
       "    <tr>\n",
       "      <th>0</th>\n",
       "      <td>0.064172</td>\n",
       "      <td>-0.209607</td>\n",
       "    </tr>\n",
       "    <tr>\n",
       "      <th>1</th>\n",
       "      <td>1.182599</td>\n",
       "      <td>-0.209607</td>\n",
       "    </tr>\n",
       "  </tbody>\n",
       "</table>\n",
       "</div>"
      ],
      "text/plain": [
       "     famrel  freetime\n",
       "0  0.064172 -0.209607\n",
       "1  1.182599 -0.209607"
      ]
     },
     "execution_count": 7,
     "metadata": {},
     "output_type": "execute_result"
    }
   ],
   "source": [
    "# column 의 str 속성을 활용해 문자열 패턴 정의\n",
    "\n",
    "df.loc[:, df.columns.str.startswith('f')].apply(\n",
    "    lambda x : (x - x.mean()) / x.std()\n",
    ").head(2)"
   ]
  },
  {
   "cell_type": "markdown",
   "metadata": {},
   "source": [
    "※ Remark\n",
    "\n",
    "* apply() 함수에 대한 고찰\n",
    "\n",
    "  * apply 는 axis 에 따라 DataFrame 의 각 열 (또는 열) 에 함수를 적용 \n",
    "\n",
    "    * axis = 0 : 각 열에 대해 apply 로 전달되는 연산이 적용\n",
    "\n",
    "    * axis = 1 : 각 행에 대해 apply 로 전달되는 연산에 적용\n",
    "\n",
    "* My Error Prone Approach \n",
    "\n",
    "  * apply 에게 주어지는 것이 무엇이고 각 열은 어떻게 접근하는지를 먼저 생각하는 것이 Error Prone\n",
    "\n",
    "  * ▷ axis 를 무엇으로 해서 각 열에 또는 각 행에 연산을 적용할지를 생각해야 하는 것!"
   ]
  },
  {
   "cell_type": "markdown",
   "metadata": {},
   "source": [
    "#### 3. 데이터 재구조화\n",
    "\n",
    "\n",
    "* adp1.csv 데이터 description\n",
    "\n",
    "  * school : GP , MS\n",
    "\n",
    "  * sex : F, M\n",
    "\n",
    "  * paid : 추가 유료 수업 수강 여부\n",
    "\n",
    "  * 5점 척도 스케일 변수\n",
    "\n",
    "    * Dalc : 주중 알콜 소비량\n",
    "\n",
    "    * Walc : 주말 알콜 소비량\n",
    "\n",
    "    * famrel : 가족 관계\n",
    "\n",
    "    * freetime : 자유시간\n",
    "\n",
    "    * goout : 외출 빈도\n",
    "\n",
    "    * health : 건강 상태\n",
    "\n",
    "  * absence : 결섯 횟수\n",
    "\n",
    "  * G3 : 성적 등급 (1~11 척도)"
   ]
  },
  {
   "cell_type": "markdown",
   "metadata": {},
   "source": [
    "두 변수의 교차점에 대한 데이터 재구조화\n",
    "\n",
    "* 두 변수의 교차 지점에서 교집합의 빈도 , 빈도의 정규화 (확률)\n",
    "\n",
    "  * 예) 석사(MS) 이면서 여성(F) 인 데이터 빈도 등\n",
    "\n",
    "* 두 변수의 교차 지점에서 다른 변수의 집계\n",
    "\n",
    "  * 예) 여성(F) 인 석사(M) 의 결석 회수\n",
    "\n",
    "  * 예) 여성(F) 인 석사(M) 의 결석 회수와 성적 등급"
   ]
  },
  {
   "cell_type": "markdown",
   "metadata": {},
   "source": [
    "* crosstab 함수\n",
    "\n",
    "  * 두 변수의 교차 영역에서 데이터 빈도\n",
    "\n",
    "  * 두 변수의 교차 영역에 해당하는 데이터, 이 데이터의 다른 변수의 집계값 <--- pivot 과 유사하나 제한적"
   ]
  },
  {
   "cell_type": "code",
   "execution_count": 8,
   "metadata": {},
   "outputs": [
    {
     "data": {
      "text/html": [
       "<div>\n",
       "<style scoped>\n",
       "    .dataframe tbody tr th:only-of-type {\n",
       "        vertical-align: middle;\n",
       "    }\n",
       "\n",
       "    .dataframe tbody tr th {\n",
       "        vertical-align: top;\n",
       "    }\n",
       "\n",
       "    .dataframe thead th {\n",
       "        text-align: right;\n",
       "    }\n",
       "</style>\n",
       "<table border=\"1\" class=\"dataframe\">\n",
       "  <thead>\n",
       "    <tr style=\"text-align: right;\">\n",
       "      <th>sex</th>\n",
       "      <th>F</th>\n",
       "      <th>M</th>\n",
       "    </tr>\n",
       "    <tr>\n",
       "      <th>school</th>\n",
       "      <th></th>\n",
       "      <th></th>\n",
       "    </tr>\n",
       "  </thead>\n",
       "  <tbody>\n",
       "    <tr>\n",
       "      <th>GP</th>\n",
       "      <td>172</td>\n",
       "      <td>153</td>\n",
       "    </tr>\n",
       "    <tr>\n",
       "      <th>MS</th>\n",
       "      <td>23</td>\n",
       "      <td>18</td>\n",
       "    </tr>\n",
       "  </tbody>\n",
       "</table>\n",
       "</div>"
      ],
      "text/plain": [
       "sex       F    M\n",
       "school          \n",
       "GP      172  153\n",
       "MS       23   18"
      ]
     },
     "metadata": {},
     "output_type": "display_data"
    },
    {
     "data": {
      "text/html": [
       "<div>\n",
       "<style scoped>\n",
       "    .dataframe tbody tr th:only-of-type {\n",
       "        vertical-align: middle;\n",
       "    }\n",
       "\n",
       "    .dataframe tbody tr th {\n",
       "        vertical-align: top;\n",
       "    }\n",
       "\n",
       "    .dataframe thead th {\n",
       "        text-align: right;\n",
       "    }\n",
       "</style>\n",
       "<table border=\"1\" class=\"dataframe\">\n",
       "  <thead>\n",
       "    <tr style=\"text-align: right;\">\n",
       "      <th>sex</th>\n",
       "      <th>F</th>\n",
       "      <th>M</th>\n",
       "    </tr>\n",
       "    <tr>\n",
       "      <th>school</th>\n",
       "      <th></th>\n",
       "      <th></th>\n",
       "    </tr>\n",
       "  </thead>\n",
       "  <tbody>\n",
       "    <tr>\n",
       "      <th>GP</th>\n",
       "      <td>0.469945</td>\n",
       "      <td>0.418033</td>\n",
       "    </tr>\n",
       "    <tr>\n",
       "      <th>MS</th>\n",
       "      <td>0.062842</td>\n",
       "      <td>0.049180</td>\n",
       "    </tr>\n",
       "  </tbody>\n",
       "</table>\n",
       "</div>"
      ],
      "text/plain": [
       "sex            F         M\n",
       "school                    \n",
       "GP      0.469945  0.418033\n",
       "MS      0.062842  0.049180"
      ]
     },
     "metadata": {},
     "output_type": "display_data"
    },
    {
     "data": {
      "text/html": [
       "<div>\n",
       "<style scoped>\n",
       "    .dataframe tbody tr th:only-of-type {\n",
       "        vertical-align: middle;\n",
       "    }\n",
       "\n",
       "    .dataframe tbody tr th {\n",
       "        vertical-align: top;\n",
       "    }\n",
       "\n",
       "    .dataframe thead th {\n",
       "        text-align: right;\n",
       "    }\n",
       "</style>\n",
       "<table border=\"1\" class=\"dataframe\">\n",
       "  <thead>\n",
       "    <tr style=\"text-align: right;\">\n",
       "      <th>sex</th>\n",
       "      <th>F</th>\n",
       "      <th>M</th>\n",
       "    </tr>\n",
       "    <tr>\n",
       "      <th>school</th>\n",
       "      <th></th>\n",
       "      <th></th>\n",
       "    </tr>\n",
       "  </thead>\n",
       "  <tbody>\n",
       "    <tr>\n",
       "      <th>GP</th>\n",
       "      <td>6.604651</td>\n",
       "      <td>5.045752</td>\n",
       "    </tr>\n",
       "    <tr>\n",
       "      <th>MS</th>\n",
       "      <td>2.782609</td>\n",
       "      <td>4.055556</td>\n",
       "    </tr>\n",
       "  </tbody>\n",
       "</table>\n",
       "</div>"
      ],
      "text/plain": [
       "sex            F         M\n",
       "school                    \n",
       "GP      6.604651  5.045752\n",
       "MS      2.782609  4.055556"
      ]
     },
     "metadata": {},
     "output_type": "display_data"
    }
   ],
   "source": [
    "import numpy as np\n",
    "\n",
    "df = pd.read_csv('../data/ex_data/adp1.csv')\n",
    "\n",
    "# 졸업 학교 수준을 기준으로 성별에 따른 데이터 빈도\n",
    "display(\n",
    "    pd.crosstab(\n",
    "        index = df.school,\n",
    "        columns = df.sex,\n",
    "    )\n",
    ")\n",
    "\n",
    "# 졸업 학교 수준을 기준으로 성별에 따른 데이터 빈도를 정규화\n",
    "display(\n",
    "    pd.crosstab(\n",
    "        index = df.school,\n",
    "        columns = df.sex,\n",
    "        normalize=True\n",
    "    )\n",
    ")\n",
    "\n",
    "# 졸업 학교 수준을 기준으로 성별에 평균 결석일수 \n",
    "display(\n",
    "    pd.crosstab(\n",
    "        index = df.school,\n",
    "        columns = df.sex,\n",
    "        values= df.absences,\n",
    "        aggfunc= np.mean\n",
    "    )\n",
    ")\n"
   ]
  },
  {
   "cell_type": "markdown",
   "metadata": {},
   "source": [
    "  * pivot_table 함수"
   ]
  },
  {
   "cell_type": "code",
   "execution_count": 9,
   "metadata": {},
   "outputs": [
    {
     "data": {
      "text/html": [
       "<div>\n",
       "<style scoped>\n",
       "    .dataframe tbody tr th:only-of-type {\n",
       "        vertical-align: middle;\n",
       "    }\n",
       "\n",
       "    .dataframe tbody tr th {\n",
       "        vertical-align: top;\n",
       "    }\n",
       "\n",
       "    .dataframe thead tr th {\n",
       "        text-align: left;\n",
       "    }\n",
       "\n",
       "    .dataframe thead tr:last-of-type th {\n",
       "        text-align: right;\n",
       "    }\n",
       "</style>\n",
       "<table border=\"1\" class=\"dataframe\">\n",
       "  <thead>\n",
       "    <tr>\n",
       "      <th></th>\n",
       "      <th colspan=\"2\" halign=\"left\">absences</th>\n",
       "      <th colspan=\"2\" halign=\"left\">grade</th>\n",
       "    </tr>\n",
       "    <tr>\n",
       "      <th>sex</th>\n",
       "      <th>F</th>\n",
       "      <th>M</th>\n",
       "      <th>F</th>\n",
       "      <th>M</th>\n",
       "    </tr>\n",
       "    <tr>\n",
       "      <th>school</th>\n",
       "      <th></th>\n",
       "      <th></th>\n",
       "      <th></th>\n",
       "      <th></th>\n",
       "    </tr>\n",
       "  </thead>\n",
       "  <tbody>\n",
       "    <tr>\n",
       "      <th>GP</th>\n",
       "      <td>6.605</td>\n",
       "      <td>5.046</td>\n",
       "      <td>4.698</td>\n",
       "      <td>5.444</td>\n",
       "    </tr>\n",
       "    <tr>\n",
       "      <th>MS</th>\n",
       "      <td>2.783</td>\n",
       "      <td>4.056</td>\n",
       "      <td>4.565</td>\n",
       "      <td>4.667</td>\n",
       "    </tr>\n",
       "  </tbody>\n",
       "</table>\n",
       "</div>"
      ],
      "text/plain": [
       "       absences         grade       \n",
       "sex           F      M      F      M\n",
       "school                              \n",
       "GP        6.605  5.046  4.698  5.444\n",
       "MS        2.783  4.056  4.565  4.667"
      ]
     },
     "metadata": {},
     "output_type": "display_data"
    },
    {
     "data": {
      "text/html": [
       "<div>\n",
       "<style scoped>\n",
       "    .dataframe tbody tr th:only-of-type {\n",
       "        vertical-align: middle;\n",
       "    }\n",
       "\n",
       "    .dataframe tbody tr th {\n",
       "        vertical-align: top;\n",
       "    }\n",
       "\n",
       "    .dataframe thead tr th {\n",
       "        text-align: left;\n",
       "    }\n",
       "\n",
       "    .dataframe thead tr:last-of-type th {\n",
       "        text-align: right;\n",
       "    }\n",
       "</style>\n",
       "<table border=\"1\" class=\"dataframe\">\n",
       "  <thead>\n",
       "    <tr>\n",
       "      <th></th>\n",
       "      <th colspan=\"2\" halign=\"left\">absences</th>\n",
       "      <th colspan=\"2\" halign=\"left\">grade</th>\n",
       "    </tr>\n",
       "    <tr>\n",
       "      <th>sex</th>\n",
       "      <th>F</th>\n",
       "      <th>M</th>\n",
       "      <th>F</th>\n",
       "      <th>M</th>\n",
       "    </tr>\n",
       "    <tr>\n",
       "      <th>school</th>\n",
       "      <th></th>\n",
       "      <th></th>\n",
       "      <th></th>\n",
       "      <th></th>\n",
       "    </tr>\n",
       "  </thead>\n",
       "  <tbody>\n",
       "    <tr>\n",
       "      <th>GP</th>\n",
       "      <td>6.605</td>\n",
       "      <td>5.046</td>\n",
       "      <td>11</td>\n",
       "      <td>11</td>\n",
       "    </tr>\n",
       "    <tr>\n",
       "      <th>MS</th>\n",
       "      <td>2.783</td>\n",
       "      <td>4.056</td>\n",
       "      <td>10</td>\n",
       "      <td>10</td>\n",
       "    </tr>\n",
       "  </tbody>\n",
       "</table>\n",
       "</div>"
      ],
      "text/plain": [
       "       absences        grade    \n",
       "sex           F      M     F   M\n",
       "school                          \n",
       "GP        6.605  5.046    11  11\n",
       "MS        2.783  4.056    10  10"
      ]
     },
     "metadata": {},
     "output_type": "display_data"
    }
   ],
   "source": [
    "import numpy as np\n",
    "\n",
    "\n",
    "display(\n",
    "    pd.pivot_table(\n",
    "        data = df, \n",
    "        index = 'school',\n",
    "        columns = 'sex', \n",
    "        values = ['absences', 'grade'],\n",
    "        aggfunc = np.mean\n",
    "    ).round(decimals=3)\n",
    ")\n",
    "\n",
    "display(\n",
    "    pd.pivot_table(\n",
    "        data = df, \n",
    "        index = 'school',\n",
    "        columns = 'sex', \n",
    "        values = ['absences', 'grade'],\n",
    "        aggfunc = {'absences':np.mean, 'grade':np.max}\n",
    "    ).round(decimals=3)\n",
    ")"
   ]
  },
  {
   "cell_type": "markdown",
   "metadata": {},
   "source": [
    "※ 비고 : crosstab 에서는 아래와 같은 형태는 지원하지 않음\n",
    "\n",
    " * crosstab 의 values 는 단일 열의 값목록(sereis 등) 의미하는 것이고 여러 열의 list 를 의미하는 것이 아님 \n",
    "\n",
    "    ```python\n",
    "        # Error\n",
    "        pd.crosstab(\n",
    "            index = df.school, \n",
    "            columns= df.sex, \n",
    "            values=[df.absences, df.grade], \n",
    "            aggfunc = np.mean\n",
    "        ).round(decimals=3)\n",
    "    ```"
   ]
  },
  {
   "cell_type": "markdown",
   "metadata": {},
   "source": [
    "※ 비고 : 더 일반화된 형태로 groupby ~ apply 통해 pivot_table 작성가능함"
   ]
  },
  {
   "cell_type": "code",
   "execution_count": 10,
   "metadata": {},
   "outputs": [
    {
     "data": {
      "text/html": [
       "<div>\n",
       "<style scoped>\n",
       "    .dataframe tbody tr th:only-of-type {\n",
       "        vertical-align: middle;\n",
       "    }\n",
       "\n",
       "    .dataframe tbody tr th {\n",
       "        vertical-align: top;\n",
       "    }\n",
       "\n",
       "    .dataframe thead tr th {\n",
       "        text-align: left;\n",
       "    }\n",
       "\n",
       "    .dataframe thead tr:last-of-type th {\n",
       "        text-align: right;\n",
       "    }\n",
       "</style>\n",
       "<table border=\"1\" class=\"dataframe\">\n",
       "  <thead>\n",
       "    <tr>\n",
       "      <th></th>\n",
       "      <th colspan=\"2\" halign=\"left\">absences</th>\n",
       "      <th colspan=\"2\" halign=\"left\">grade</th>\n",
       "    </tr>\n",
       "    <tr>\n",
       "      <th>sex</th>\n",
       "      <th>F</th>\n",
       "      <th>M</th>\n",
       "      <th>F</th>\n",
       "      <th>M</th>\n",
       "    </tr>\n",
       "    <tr>\n",
       "      <th>school</th>\n",
       "      <th></th>\n",
       "      <th></th>\n",
       "      <th></th>\n",
       "      <th></th>\n",
       "    </tr>\n",
       "  </thead>\n",
       "  <tbody>\n",
       "    <tr>\n",
       "      <th>GP</th>\n",
       "      <td>6.604651</td>\n",
       "      <td>5.045752</td>\n",
       "      <td>4.697674</td>\n",
       "      <td>5.444444</td>\n",
       "    </tr>\n",
       "    <tr>\n",
       "      <th>MS</th>\n",
       "      <td>2.782609</td>\n",
       "      <td>4.055556</td>\n",
       "      <td>4.565217</td>\n",
       "      <td>4.666667</td>\n",
       "    </tr>\n",
       "  </tbody>\n",
       "</table>\n",
       "</div>"
      ],
      "text/plain": [
       "        absences               grade          \n",
       "sex            F         M         F         M\n",
       "school                                        \n",
       "GP      6.604651  5.045752  4.697674  5.444444\n",
       "MS      2.782609  4.055556  4.565217  4.666667"
      ]
     },
     "execution_count": 10,
     "metadata": {},
     "output_type": "execute_result"
    }
   ],
   "source": [
    "df.groupby(['school', 'sex'])[['absences', 'grade']].apply(np.mean).unstack()"
   ]
  },
  {
   "cell_type": "markdown",
   "metadata": {},
   "source": [
    "long-form 과 wide-form\n",
    "\n",
    "* 데이터 시각화, 검정에서 long-form 을 요구하는 경우가 있음"
   ]
  },
  {
   "cell_type": "code",
   "execution_count": 11,
   "metadata": {},
   "outputs": [
    {
     "data": {
      "image/png": "[encoded data removed]",
      "text/plain": [
       "<Figure size 1080x432 with 3 Axes>"
      ]
     },
     "metadata": {
      "needs_background": "light"
     },
     "output_type": "display_data"
    }
   ],
   "source": [
    "import janitor\n",
    "import seaborn as sns\n",
    "import matplotlib.pyplot as plt \n",
    "\n",
    "# 5점 척도 변수들의 분포를 boxplot 을 가지고 싶다고 하면?\n",
    "# - dataframe 의 box plot 을 사용해도 되지만\n",
    "# - searbon 의 box plot 을 쓴다고 하면 (사실 long-form, wide-form 모두 지원함)\n",
    "\n",
    "df = pd.read_csv('../data/ex_data/adp1.csv')\n",
    "df = df.clean_names().reset_index()\n",
    "\n",
    "# 5점 척도 변수들\n",
    "cols = ['famrel', 'freetime', 'dalc', 'walc', 'health']\n",
    "\n",
    "ldf = pd.melt(\n",
    "    frame = df,\n",
    "    # id_vars = 'index',\n",
    "    value_vars= cols,\n",
    "    ignore_index=False\n",
    ")\n",
    "\n",
    "# 다양한 형태의 box plot 그리기\n",
    "fig, ax = plt.subplots(1, 3, figsize=(15,6))\n",
    "plt1 = df[cols].boxplot(ax=ax[0])\n",
    "plt2 = sns.boxplot(x='variable', y='value', data=ldf, ax=ax[1])\n",
    "plt3 = sns.boxplot(data=df[cols], ax=ax[2])\n",
    "plt.show()"
   ]
  },
  {
   "cell_type": "markdown",
   "metadata": {},
   "source": [
    "#### 4. 변수별 요약 통계량 확인 및 시각화"
   ]
  },
  {
   "cell_type": "markdown",
   "metadata": {},
   "source": [
    "* 각 변수의 통계량은 describe 를 통해 간략히 볼 수 있음\n",
    "\n",
    "  * 범주형 변수도 포함하여 통계량을 보려면 describe(include='all')\n",
    "\n",
    "    * unique : 각 변수의 categories\n",
    "\n",
    "    * top : 제일 빈도가 많은 category\n",
    "\n",
    "    * freq : top 인 범주의 빈도\n",
    "\n",
    "* [결론] school 이 GP 인 데이터에 편중되어 있고 goout 변수는 결측이 존재하고 asbsence 변수의 최대값은 75 로 median 에 비해 상대적으로 큼"
   ]
  },
  {
   "cell_type": "code",
   "execution_count": 12,
   "metadata": {},
   "outputs": [
    {
     "data": {
      "text/html": [
       "<div>\n",
       "<style scoped>\n",
       "    .dataframe tbody tr th:only-of-type {\n",
       "        vertical-align: middle;\n",
       "    }\n",
       "\n",
       "    .dataframe tbody tr th {\n",
       "        vertical-align: top;\n",
       "    }\n",
       "\n",
       "    .dataframe thead th {\n",
       "        text-align: right;\n",
       "    }\n",
       "</style>\n",
       "<table border=\"1\" class=\"dataframe\">\n",
       "  <thead>\n",
       "    <tr style=\"text-align: right;\">\n",
       "      <th></th>\n",
       "      <th>school</th>\n",
       "      <th>sex</th>\n",
       "      <th>paid</th>\n",
       "      <th>famrel</th>\n",
       "      <th>freetime</th>\n",
       "      <th>goout</th>\n",
       "      <th>Dalc</th>\n",
       "      <th>Walc</th>\n",
       "      <th>health</th>\n",
       "      <th>absences</th>\n",
       "      <th>grade</th>\n",
       "    </tr>\n",
       "  </thead>\n",
       "  <tbody>\n",
       "    <tr>\n",
       "      <th>count</th>\n",
       "      <td>366</td>\n",
       "      <td>366</td>\n",
       "      <td>366</td>\n",
       "      <td>366.000000</td>\n",
       "      <td>366.000000</td>\n",
       "      <td>356.000000</td>\n",
       "      <td>366.000000</td>\n",
       "      <td>366.000000</td>\n",
       "      <td>366.000000</td>\n",
       "      <td>366.000000</td>\n",
       "      <td>366.000000</td>\n",
       "    </tr>\n",
       "    <tr>\n",
       "      <th>unique</th>\n",
       "      <td>2</td>\n",
       "      <td>2</td>\n",
       "      <td>2</td>\n",
       "      <td>NaN</td>\n",
       "      <td>NaN</td>\n",
       "      <td>NaN</td>\n",
       "      <td>NaN</td>\n",
       "      <td>NaN</td>\n",
       "      <td>NaN</td>\n",
       "      <td>NaN</td>\n",
       "      <td>NaN</td>\n",
       "    </tr>\n",
       "    <tr>\n",
       "      <th>top</th>\n",
       "      <td>GP</td>\n",
       "      <td>F</td>\n",
       "      <td>no</td>\n",
       "      <td>NaN</td>\n",
       "      <td>NaN</td>\n",
       "      <td>NaN</td>\n",
       "      <td>NaN</td>\n",
       "      <td>NaN</td>\n",
       "      <td>NaN</td>\n",
       "      <td>NaN</td>\n",
       "      <td>NaN</td>\n",
       "    </tr>\n",
       "    <tr>\n",
       "      <th>freq</th>\n",
       "      <td>325</td>\n",
       "      <td>195</td>\n",
       "      <td>193</td>\n",
       "      <td>NaN</td>\n",
       "      <td>NaN</td>\n",
       "      <td>NaN</td>\n",
       "      <td>NaN</td>\n",
       "      <td>NaN</td>\n",
       "      <td>NaN</td>\n",
       "      <td>NaN</td>\n",
       "      <td>NaN</td>\n",
       "    </tr>\n",
       "    <tr>\n",
       "      <th>mean</th>\n",
       "      <td>NaN</td>\n",
       "      <td>NaN</td>\n",
       "      <td>NaN</td>\n",
       "      <td>3.942623</td>\n",
       "      <td>3.207650</td>\n",
       "      <td>3.098315</td>\n",
       "      <td>1.469945</td>\n",
       "      <td>2.278689</td>\n",
       "      <td>3.576503</td>\n",
       "      <td>5.587432</td>\n",
       "      <td>5.000000</td>\n",
       "    </tr>\n",
       "    <tr>\n",
       "      <th>std</th>\n",
       "      <td>NaN</td>\n",
       "      <td>NaN</td>\n",
       "      <td>NaN</td>\n",
       "      <td>0.894113</td>\n",
       "      <td>0.990667</td>\n",
       "      <td>1.105121</td>\n",
       "      <td>0.877683</td>\n",
       "      <td>1.275237</td>\n",
       "      <td>1.382234</td>\n",
       "      <td>8.113696</td>\n",
       "      <td>3.053855</td>\n",
       "    </tr>\n",
       "    <tr>\n",
       "      <th>min</th>\n",
       "      <td>NaN</td>\n",
       "      <td>NaN</td>\n",
       "      <td>NaN</td>\n",
       "      <td>1.000000</td>\n",
       "      <td>1.000000</td>\n",
       "      <td>1.000000</td>\n",
       "      <td>1.000000</td>\n",
       "      <td>1.000000</td>\n",
       "      <td>1.000000</td>\n",
       "      <td>0.000000</td>\n",
       "      <td>0.000000</td>\n",
       "    </tr>\n",
       "    <tr>\n",
       "      <th>25%</th>\n",
       "      <td>NaN</td>\n",
       "      <td>NaN</td>\n",
       "      <td>NaN</td>\n",
       "      <td>4.000000</td>\n",
       "      <td>3.000000</td>\n",
       "      <td>2.000000</td>\n",
       "      <td>1.000000</td>\n",
       "      <td>1.000000</td>\n",
       "      <td>3.000000</td>\n",
       "      <td>0.000000</td>\n",
       "      <td>3.000000</td>\n",
       "    </tr>\n",
       "    <tr>\n",
       "      <th>50%</th>\n",
       "      <td>NaN</td>\n",
       "      <td>NaN</td>\n",
       "      <td>NaN</td>\n",
       "      <td>4.000000</td>\n",
       "      <td>3.000000</td>\n",
       "      <td>3.000000</td>\n",
       "      <td>1.000000</td>\n",
       "      <td>2.000000</td>\n",
       "      <td>4.000000</td>\n",
       "      <td>4.000000</td>\n",
       "      <td>5.000000</td>\n",
       "    </tr>\n",
       "    <tr>\n",
       "      <th>75%</th>\n",
       "      <td>NaN</td>\n",
       "      <td>NaN</td>\n",
       "      <td>NaN</td>\n",
       "      <td>5.000000</td>\n",
       "      <td>4.000000</td>\n",
       "      <td>4.000000</td>\n",
       "      <td>2.000000</td>\n",
       "      <td>3.000000</td>\n",
       "      <td>5.000000</td>\n",
       "      <td>8.000000</td>\n",
       "      <td>7.000000</td>\n",
       "    </tr>\n",
       "    <tr>\n",
       "      <th>max</th>\n",
       "      <td>NaN</td>\n",
       "      <td>NaN</td>\n",
       "      <td>NaN</td>\n",
       "      <td>5.000000</td>\n",
       "      <td>5.000000</td>\n",
       "      <td>5.000000</td>\n",
       "      <td>5.000000</td>\n",
       "      <td>5.000000</td>\n",
       "      <td>5.000000</td>\n",
       "      <td>75.000000</td>\n",
       "      <td>11.000000</td>\n",
       "    </tr>\n",
       "  </tbody>\n",
       "</table>\n",
       "</div>"
      ],
      "text/plain": [
       "       school  sex paid      famrel    freetime       goout        Dalc  \\\n",
       "count     366  366  366  366.000000  366.000000  356.000000  366.000000   \n",
       "unique      2    2    2         NaN         NaN         NaN         NaN   \n",
       "top        GP    F   no         NaN         NaN         NaN         NaN   \n",
       "freq      325  195  193         NaN         NaN         NaN         NaN   \n",
       "mean      NaN  NaN  NaN    3.942623    3.207650    3.098315    1.469945   \n",
       "std       NaN  NaN  NaN    0.894113    0.990667    1.105121    0.877683   \n",
       "min       NaN  NaN  NaN    1.000000    1.000000    1.000000    1.000000   \n",
       "25%       NaN  NaN  NaN    4.000000    3.000000    2.000000    1.000000   \n",
       "50%       NaN  NaN  NaN    4.000000    3.000000    3.000000    1.000000   \n",
       "75%       NaN  NaN  NaN    5.000000    4.000000    4.000000    2.000000   \n",
       "max       NaN  NaN  NaN    5.000000    5.000000    5.000000    5.000000   \n",
       "\n",
       "              Walc      health    absences       grade  \n",
       "count   366.000000  366.000000  366.000000  366.000000  \n",
       "unique         NaN         NaN         NaN         NaN  \n",
       "top            NaN         NaN         NaN         NaN  \n",
       "freq           NaN         NaN         NaN         NaN  \n",
       "mean      2.278689    3.576503    5.587432    5.000000  \n",
       "std       1.275237    1.382234    8.113696    3.053855  \n",
       "min       1.000000    1.000000    0.000000    0.000000  \n",
       "25%       1.000000    3.000000    0.000000    3.000000  \n",
       "50%       2.000000    4.000000    4.000000    5.000000  \n",
       "75%       3.000000    5.000000    8.000000    7.000000  \n",
       "max       5.000000    5.000000   75.000000   11.000000  "
      ]
     },
     "execution_count": 12,
     "metadata": {},
     "output_type": "execute_result"
    }
   ],
   "source": [
    "df = pd.read_csv('../data/ex_data/adp1.csv')\n",
    "df.describe(include='all') "
   ]
  },
  {
   "cell_type": "markdown",
   "metadata": {},
   "source": [
    "* 범주형 변수의 분포를 살펴보면"
   ]
  },
  {
   "cell_type": "code",
   "execution_count": 13,
   "metadata": {},
   "outputs": [
    {
     "data": {
      "image/png": "[encoded data removed]",
      "text/plain": [
       "<Figure size 432x288 with 3 Axes>"
      ]
     },
     "metadata": {
      "needs_background": "light"
     },
     "output_type": "display_data"
    }
   ],
   "source": [
    "import seaborn as sns\n",
    "import matplotlib.pyplot as plt\n",
    "\n",
    "fig, ax = plt.subplots(1, 3)\n",
    "for idx , col in enumerate(df.select_dtypes('object').columns):\n",
    "    sns.countplot(df[col], ax=ax[idx])\n",
    "plt.show()\n"
   ]
  },
  {
   "cell_type": "markdown",
   "metadata": {},
   "source": [
    "* 수치형 변수의 분포를 살펴보면 \n",
    "\n",
    "  * 오른꼬리가 긴 분포를 갖는 변수는 absence, Dalc, grade\n",
    "\n",
    "  * 왼꼬리가 긴 분포를 갖는 변수는 famrel, health "
   ]
  },
  {
   "cell_type": "code",
   "execution_count": 14,
   "metadata": {},
   "outputs": [
    {
     "data": {
      "image/png": "[encoded data removed]",
      "text/plain": [
       "<Figure size 1080x360 with 9 Axes>"
      ]
     },
     "metadata": {
      "needs_background": "light"
     },
     "output_type": "display_data"
    }
   ],
   "source": [
    "df.select_dtypes(include='number').hist(figsize=(15,5))\n",
    "plt.show()"
   ]
  },
  {
   "cell_type": "markdown",
   "metadata": {},
   "source": [
    "* q1 - 1.5 * iqr ~ q3 + 1.5 * iqr 을 이상치로 간주하는 경우 각 수치형 변수별 이상치는 아래와 같음"
   ]
  },
  {
   "cell_type": "code",
   "execution_count": 15,
   "metadata": {},
   "outputs": [
    {
     "data": {
      "text/plain": [
       "famrel      23\n",
       "freetime    18\n",
       "goout        0\n",
       "Dalc        16\n",
       "Walc         0\n",
       "health       0\n",
       "absences    14\n",
       "grade        0\n",
       "dtype: int64"
      ]
     },
     "metadata": {},
     "output_type": "display_data"
    },
    {
     "name": "stderr",
     "output_type": "stream",
     "text": [
      "/home/chsun/anaconda3/envs/adp/lib/python3.7/site-packages/matplotlib/cbook/__init__.py:1395: VisibleDeprecationWarning: Creating an ndarray from ragged nested sequences (which is a list-or-tuple of lists-or-tuples-or ndarrays with different lengths or shapes) is deprecated. If you meant to do this, you must specify 'dtype=object' when creating the ndarray.\n",
      "  X = np.atleast_1d(X.T if isinstance(X, np.ndarray) else np.asarray(X))\n"
     ]
    },
    {
     "data": {
      "image/png": "[encoded data removed]",
      "text/plain": [
       "<Figure size 1080x504 with 1 Axes>"
      ]
     },
     "metadata": {
      "needs_background": "light"
     },
     "output_type": "display_data"
    }
   ],
   "source": [
    "ndf = df.select_dtypes('number')\n",
    "\n",
    "q1 = ndf.quantile(0.25)\n",
    "q3 = ndf.quantile(0.75)\n",
    "iqr = q3 - q1\n",
    "outliers = (ndf < q1 - 1.5 * iqr) | (ndf > q3 + 1.5 * iqr)\n",
    "\n",
    "display(outliers.sum())\n",
    "\n",
    "ndf.boxplot(figsize=(15, 7))\n",
    "\n",
    "plt.show()"
   ]
  },
  {
   "cell_type": "markdown",
   "metadata": {},
   "source": [
    "* gout 변수에서 결측치는 아래와 같이 존재하고"
   ]
  },
  {
   "cell_type": "code",
   "execution_count": 16,
   "metadata": {},
   "outputs": [
    {
     "data": {
      "text/plain": [
       "goout    10\n",
       "dtype: int64"
      ]
     },
     "execution_count": 16,
     "metadata": {},
     "output_type": "execute_result"
    }
   ],
   "source": [
    "df.isna().sum()[df.isna().sum().map(lambda x : x > 0)]"
   ]
  },
  {
   "cell_type": "markdown",
   "metadata": {},
   "source": [
    "#### 5. 변수간 관계 통계량 확인 및 시각화\n",
    "\n",
    "   a. 반응변수 vs 설명변수 상관관계\n",
    "\n",
    "   (설명 변수가 연속형)\n",
    "       \n",
    "   `grade 와 상관관계가 높은 변수는 없었음`\n",
    "         \n",
    "   (설명 변수가 범주형)\n",
    "\n",
    "   `gender 에 따른 grade 의 차이가 유의미함`\n",
    "\n",
    "   b. 설명변수 vs 설명변수 상관관계\n",
    "\n",
    "   `Dalc, Walc 간예 peason coefficient 가 0.65 로 다소 높은 편` "
   ]
  },
  {
   "cell_type": "markdown",
   "metadata": {},
   "source": [
    "※ 비고. 연속형 설명 변수와 반응 변수간 상관관계를 분석할 때\n",
    "\n",
    "  * scipy.stats.pearsonr 을 사용하는 경우 결측치가 모두 제거된 상태에서 pearsonr 호출해야 함"
   ]
  },
  {
   "cell_type": "code",
   "execution_count": null,
   "metadata": {},
   "outputs": [
    {
     "data": {
      "text/html": [
       "<div>\n",
       "<style scoped>\n",
       "    .dataframe tbody tr th:only-of-type {\n",
       "        vertical-align: middle;\n",
       "    }\n",
       "\n",
       "    .dataframe tbody tr th {\n",
       "        vertical-align: top;\n",
       "    }\n",
       "\n",
       "    .dataframe thead th {\n",
       "        text-align: right;\n",
       "    }\n",
       "</style>\n",
       "<table border=\"1\" class=\"dataframe\">\n",
       "  <thead>\n",
       "    <tr style=\"text-align: right;\">\n",
       "      <th></th>\n",
       "      <th>goout</th>\n",
       "      <th>Dalc</th>\n",
       "      <th>Walc</th>\n",
       "      <th>health</th>\n",
       "      <th>absences</th>\n",
       "    </tr>\n",
       "  </thead>\n",
       "  <tbody>\n",
       "    <tr>\n",
       "      <th>0</th>\n",
       "      <td>-0.100964</td>\n",
       "      <td>-0.060484</td>\n",
       "      <td>-0.042766</td>\n",
       "      <td>-0.047105</td>\n",
       "      <td>-0.033015</td>\n",
       "    </tr>\n",
       "    <tr>\n",
       "      <th>1</th>\n",
       "      <td>0.057020</td>\n",
       "      <td>0.255022</td>\n",
       "      <td>0.421142</td>\n",
       "      <td>0.375537</td>\n",
       "      <td>0.534668</td>\n",
       "    </tr>\n",
       "  </tbody>\n",
       "</table>\n",
       "</div>"
      ],
      "text/plain": [
       "      goout      Dalc      Walc    health  absences\n",
       "0 -0.100964 -0.060484 -0.042766 -0.047105 -0.033015\n",
       "1  0.057020  0.255022  0.421142  0.375537  0.534668"
      ]
     },
     "metadata": {},
     "output_type": "display_data"
    }
   ],
   "source": []
  },
  {
   "cell_type": "code",
   "execution_count": 56,
   "metadata": {},
   "outputs": [
    {
     "data": {
      "text/html": [
       "<div>\n",
       "<style scoped>\n",
       "    .dataframe tbody tr th:only-of-type {\n",
       "        vertical-align: middle;\n",
       "    }\n",
       "\n",
       "    .dataframe tbody tr th {\n",
       "        vertical-align: top;\n",
       "    }\n",
       "\n",
       "    .dataframe thead th {\n",
       "        text-align: right;\n",
       "    }\n",
       "</style>\n",
       "<table border=\"1\" class=\"dataframe\">\n",
       "  <thead>\n",
       "    <tr style=\"text-align: right;\">\n",
       "      <th></th>\n",
       "      <th>famrel</th>\n",
       "      <th>freetime</th>\n",
       "      <th>goout</th>\n",
       "      <th>Dalc</th>\n",
       "      <th>Walc</th>\n",
       "      <th>health</th>\n",
       "      <th>absences</th>\n",
       "      <th>grade</th>\n",
       "    </tr>\n",
       "  </thead>\n",
       "  <tbody>\n",
       "    <tr>\n",
       "      <th>famrel</th>\n",
       "      <td>1.000000</td>\n",
       "      <td>0.155768</td>\n",
       "      <td>0.071379</td>\n",
       "      <td>-0.098212</td>\n",
       "      <td>-0.130108</td>\n",
       "      <td>0.093343</td>\n",
       "      <td>-0.041415</td>\n",
       "      <td>0.035118</td>\n",
       "    </tr>\n",
       "    <tr>\n",
       "      <th>freetime</th>\n",
       "      <td>0.155768</td>\n",
       "      <td>1.000000</td>\n",
       "      <td>0.279980</td>\n",
       "      <td>0.218311</td>\n",
       "      <td>0.160089</td>\n",
       "      <td>0.084404</td>\n",
       "      <td>-0.073843</td>\n",
       "      <td>0.033507</td>\n",
       "    </tr>\n",
       "    <tr>\n",
       "      <th>goout</th>\n",
       "      <td>0.071379</td>\n",
       "      <td>0.279980</td>\n",
       "      <td>1.000000</td>\n",
       "      <td>0.265128</td>\n",
       "      <td>0.409062</td>\n",
       "      <td>0.011444</td>\n",
       "      <td>0.030994</td>\n",
       "      <td>-0.100964</td>\n",
       "    </tr>\n",
       "    <tr>\n",
       "      <th>Dalc</th>\n",
       "      <td>-0.098212</td>\n",
       "      <td>0.218311</td>\n",
       "      <td>0.265128</td>\n",
       "      <td>1.000000</td>\n",
       "      <td>0.651279</td>\n",
       "      <td>0.078684</td>\n",
       "      <td>0.087318</td>\n",
       "      <td>-0.059286</td>\n",
       "    </tr>\n",
       "    <tr>\n",
       "      <th>Walc</th>\n",
       "      <td>-0.130108</td>\n",
       "      <td>0.160089</td>\n",
       "      <td>0.409062</td>\n",
       "      <td>0.651279</td>\n",
       "      <td>1.000000</td>\n",
       "      <td>0.078021</td>\n",
       "      <td>0.115204</td>\n",
       "      <td>-0.042914</td>\n",
       "    </tr>\n",
       "    <tr>\n",
       "      <th>health</th>\n",
       "      <td>0.093343</td>\n",
       "      <td>0.084404</td>\n",
       "      <td>0.011444</td>\n",
       "      <td>0.078684</td>\n",
       "      <td>0.078021</td>\n",
       "      <td>1.000000</td>\n",
       "      <td>-0.020508</td>\n",
       "      <td>-0.033751</td>\n",
       "    </tr>\n",
       "    <tr>\n",
       "      <th>absences</th>\n",
       "      <td>-0.041415</td>\n",
       "      <td>-0.073843</td>\n",
       "      <td>0.030994</td>\n",
       "      <td>0.087318</td>\n",
       "      <td>0.115204</td>\n",
       "      <td>-0.020508</td>\n",
       "      <td>1.000000</td>\n",
       "      <td>-0.026095</td>\n",
       "    </tr>\n",
       "    <tr>\n",
       "      <th>grade</th>\n",
       "      <td>0.035118</td>\n",
       "      <td>0.033507</td>\n",
       "      <td>-0.100964</td>\n",
       "      <td>-0.059286</td>\n",
       "      <td>-0.042914</td>\n",
       "      <td>-0.033751</td>\n",
       "      <td>-0.026095</td>\n",
       "      <td>1.000000</td>\n",
       "    </tr>\n",
       "  </tbody>\n",
       "</table>\n",
       "</div>"
      ],
      "text/plain": [
       "            famrel  freetime     goout      Dalc      Walc    health  \\\n",
       "famrel    1.000000  0.155768  0.071379 -0.098212 -0.130108  0.093343   \n",
       "freetime  0.155768  1.000000  0.279980  0.218311  0.160089  0.084404   \n",
       "goout     0.071379  0.279980  1.000000  0.265128  0.409062  0.011444   \n",
       "Dalc     -0.098212  0.218311  0.265128  1.000000  0.651279  0.078684   \n",
       "Walc     -0.130108  0.160089  0.409062  0.651279  1.000000  0.078021   \n",
       "health    0.093343  0.084404  0.011444  0.078684  0.078021  1.000000   \n",
       "absences -0.041415 -0.073843  0.030994  0.087318  0.115204 -0.020508   \n",
       "grade     0.035118  0.033507 -0.100964 -0.059286 -0.042914 -0.033751   \n",
       "\n",
       "          absences     grade  \n",
       "famrel   -0.041415  0.035118  \n",
       "freetime -0.073843  0.033507  \n",
       "goout     0.030994 -0.100964  \n",
       "Dalc      0.087318 -0.059286  \n",
       "Walc      0.115204 -0.042914  \n",
       "health   -0.020508 -0.033751  \n",
       "absences  1.000000 -0.026095  \n",
       "grade    -0.026095  1.000000  "
      ]
     },
     "metadata": {},
     "output_type": "display_data"
    },
    {
     "data": {
      "image/png": "[encoded data removed]",
      "text/plain": [
       "<Figure size 1152x576 with 4 Axes>"
      ]
     },
     "metadata": {
      "needs_background": "light"
     },
     "output_type": "display_data"
    }
   ],
   "source": [
    "import seaborn as sns\n",
    "import matplotlib.pyplot as plt\n",
    "\n",
    "fig, ax = plt.subplots(1,2)\n",
    "fig.set_size_inches(16,8)\n",
    "\n",
    "sns.heatmap(df.corr(method='pearson'), vmin = -1.0 , vmax=1.0, ax = ax[0] ,annot=True)\n",
    "sns.heatmap(df.corr(method='pearson'), ax=ax[1], annot=True)\n",
    "display(df.corr(method='pearson'))\n",
    "plt.show()\n",
    "\n",
    "# fig, ax = plt.subplots(1,2)\n",
    "# fig.set_size_inches(16,8)\n",
    "# sns.heatmap(df.corr(method='spearman'), vmin = -1.0 , vmax=1.0, ax = ax[0] ,annot=True)\n",
    "# sns.heatmap(df.corr(method='spearman'), ax=ax[1], annot=True)\n",
    "# display(df.corr(method='spearman'))\n",
    "# plt.show()"
   ]
  },
  {
   "cell_type": "code",
   "execution_count": 87,
   "metadata": {},
   "outputs": [
    {
     "name": "stdout",
     "output_type": "stream",
     "text": [
      "Categoric var \"school\" with \"grade\"\n"
     ]
    },
    {
     "data": {
      "image/png": "[encoded data removed]",
      "text/plain": [
       "<Figure size 432x288 with 1 Axes>"
      ]
     },
     "metadata": {
      "needs_background": "light"
     },
     "output_type": "display_data"
    },
    {
     "name": "stdout",
     "output_type": "stream",
     "text": [
      "Ttest_indResult(statistic=0.9513601076807264, pvalue=0.34568947405230965)\n",
      "\n",
      "Categoric var \"sex\" with \"grade\"\n"
     ]
    },
    {
     "data": {
      "image/png": "[encoded data removed]",
      "text/plain": [
       "<Figure size 432x288 with 1 Axes>"
      ]
     },
     "metadata": {
      "needs_background": "light"
     },
     "output_type": "display_data"
    },
    {
     "name": "stdout",
     "output_type": "stream",
     "text": [
      "Ttest_indResult(statistic=-2.136248810696903, pvalue=0.033338733031342986)\n",
      "\n",
      "Categoric var \"paid\" with \"grade\"\n"
     ]
    },
    {
     "data": {
      "image/png": "[encoded data removed]",
      "text/plain": [
       "<Figure size 432x288 with 1 Axes>"
      ]
     },
     "metadata": {
      "needs_background": "light"
     },
     "output_type": "display_data"
    },
    {
     "name": "stdout",
     "output_type": "stream",
     "text": [
      "Ttest_indResult(statistic=-1.3489989318329123, pvalue=0.17817681848477884)\n",
      "\n"
     ]
    }
   ],
   "source": [
    "from scipy.stats import ttest_ind\n",
    "\n",
    "x_cols_cat = ['school', 'sex', 'paid']\n",
    "y_col = 'grade'\n",
    "\n",
    "for col in x_cols_cat:\n",
    "    print(f'Categoric var \"{col}\" with \"{y_col}\"')\n",
    "    df.boxplot(column='grade', by=col)\n",
    "    plt.show()\n",
    "    cats = df[col].unique().tolist()\n",
    "    if(len(cats) == 2):\n",
    "        con = df.loc[df[col] == cats[0], 'grade']\n",
    "        tr = df.loc[df[col] == cats[1], 'grade']\n",
    "        print(ttest_ind(con, tr, equal_var=False))\n",
    "    print()\n",
    "\n"
   ]
  },
  {
   "cell_type": "code",
   "execution_count": null,
   "metadata": {},
   "outputs": [],
   "source": [
    "from scipy.stats import pearsonr\n",
    "\n",
    "df = pd.read_csv('../data/ex_data/adp1.csv')\n",
    "\n",
    "x_cols_cat = ['school', 'sex', 'paid']\n",
    "x_cols_num = ['goout', 'Dalc', 'Walc','health', 'absences']\n",
    "y_col = 'grade'\n",
    "\n",
    "df.dropna()[x_cols_num].apply(lambda x : pearsonr(x, df.dropna()[y_col]))\n"
   ]
  },
  {
   "cell_type": "markdown",
   "metadata": {},
   "source": []
  }
 ],
 "metadata": {
  "kernelspec": {
   "display_name": "adp",
   "language": "python",
   "name": "python3"
  },
  "language_info": {
   "codemirror_mode": {
    "name": "ipython",
    "version": 3
   },
   "file_extension": ".py",
   "mimetype": "text/x-python",
   "name": "python",
   "nbconvert_exporter": "python",
   "pygments_lexer": "ipython3",
   "version": "3.7.12"
  }
 },
 "nbformat": 4,
 "nbformat_minor": 2
}
